{
  "nbformat": 4,
  "nbformat_minor": 0,
  "metadata": {
    "colab": {
      "name": "Python.ipynb",
      "provenance": [],
      "authorship_tag": "ABX9TyMFNithL51mL5tdiIHvLyO6",
      "include_colab_link": true
    },
    "kernelspec": {
      "name": "python3",
      "display_name": "Python 3"
    }
  },
  "cells": [
    {
      "cell_type": "markdown",
      "metadata": {
        "id": "view-in-github",
        "colab_type": "text"
      },
      "source": [
        "<a href=\"https://colab.research.google.com/github/badgujjarajay/python-django-summer-18/blob/master/Python.ipynb\" target=\"_parent\"><img src=\"https://colab.research.google.com/assets/colab-badge.svg\" alt=\"Open In Colab\"/></a>"
      ]
    },
    {
      "cell_type": "markdown",
      "metadata": {
        "id": "sShhTkGtqIG7"
      },
      "source": [
        "##Local and Global variables"
      ]
    },
    {
      "cell_type": "code",
      "metadata": {
        "id": "zpGNAVeVjGP9"
      },
      "source": [
        "x = 10\r\n",
        "def show():\r\n",
        "  x = 5  # x is defined as local variable here\r\n",
        "  print(x)"
      ],
      "execution_count": 1,
      "outputs": []
    },
    {
      "cell_type": "code",
      "metadata": {
        "colab": {
          "base_uri": "https://localhost:8080/"
        },
        "id": "QnYMc_WYqVKX",
        "outputId": "f8eda26b-fc93-4ab9-cbe7-47dd00aad39c"
      },
      "source": [
        "show()\r\n",
        "print(x)"
      ],
      "execution_count": 2,
      "outputs": [
        {
          "output_type": "stream",
          "text": [
            "5\n",
            "10\n"
          ],
          "name": "stdout"
        }
      ]
    },
    {
      "cell_type": "code",
      "metadata": {
        "id": "dVMcqkFVqgiD"
      },
      "source": [
        "y = 10\r\n",
        "def showw():\r\n",
        "  y = y + 5   # y is used in the y + 5 but y is not locally declared here so it will throw an error because local variable is used befor assignment or declaration\r\n",
        "  print(y)"
      ],
      "execution_count": 3,
      "outputs": []
    },
    {
      "cell_type": "code",
      "metadata": {
        "colab": {
          "base_uri": "https://localhost:8080/",
          "height": 282
        },
        "id": "qKBFZb6Lq0kn",
        "outputId": "c2e0f41b-6b32-4628-b014-7445fa3ca695"
      },
      "source": [
        "showw() # it will through the error............ For solution see below\r\n",
        "print(y)"
      ],
      "execution_count": 4,
      "outputs": [
        {
          "output_type": "error",
          "ename": "UnboundLocalError",
          "evalue": "ignored",
          "traceback": [
            "\u001b[0;31m---------------------------------------------------------------------------\u001b[0m",
            "\u001b[0;31mUnboundLocalError\u001b[0m                         Traceback (most recent call last)",
            "\u001b[0;32m<ipython-input-4-ee9aaf5a3019>\u001b[0m in \u001b[0;36m<module>\u001b[0;34m()\u001b[0m\n\u001b[0;32m----> 1\u001b[0;31m \u001b[0mshoww\u001b[0m\u001b[0;34m(\u001b[0m\u001b[0;34m)\u001b[0m\u001b[0;34m\u001b[0m\u001b[0;34m\u001b[0m\u001b[0m\n\u001b[0m\u001b[1;32m      2\u001b[0m \u001b[0mprint\u001b[0m\u001b[0;34m(\u001b[0m\u001b[0my\u001b[0m\u001b[0;34m)\u001b[0m\u001b[0;34m\u001b[0m\u001b[0;34m\u001b[0m\u001b[0m\n",
            "\u001b[0;32m<ipython-input-3-fd89ddd47b05>\u001b[0m in \u001b[0;36mshoww\u001b[0;34m()\u001b[0m\n\u001b[1;32m      1\u001b[0m \u001b[0my\u001b[0m \u001b[0;34m=\u001b[0m \u001b[0;36m10\u001b[0m\u001b[0;34m\u001b[0m\u001b[0;34m\u001b[0m\u001b[0m\n\u001b[1;32m      2\u001b[0m \u001b[0;32mdef\u001b[0m \u001b[0mshoww\u001b[0m\u001b[0;34m(\u001b[0m\u001b[0;34m)\u001b[0m\u001b[0;34m:\u001b[0m\u001b[0;34m\u001b[0m\u001b[0;34m\u001b[0m\u001b[0m\n\u001b[0;32m----> 3\u001b[0;31m   \u001b[0my\u001b[0m \u001b[0;34m=\u001b[0m \u001b[0my\u001b[0m \u001b[0;34m+\u001b[0m \u001b[0;36m5\u001b[0m\u001b[0;34m\u001b[0m\u001b[0;34m\u001b[0m\u001b[0m\n\u001b[0m\u001b[1;32m      4\u001b[0m   \u001b[0mprint\u001b[0m\u001b[0;34m(\u001b[0m\u001b[0my\u001b[0m\u001b[0;34m)\u001b[0m\u001b[0;34m\u001b[0m\u001b[0;34m\u001b[0m\u001b[0m\n",
            "\u001b[0;31mUnboundLocalError\u001b[0m: local variable 'y' referenced before assignment"
          ]
        }
      ]
    },
    {
      "cell_type": "code",
      "metadata": {
        "id": "PGOeClLDq26b"
      },
      "source": [
        "z = 10\r\n",
        "def showww():\r\n",
        "  global z  # this statement mention that variable z used after this will be considered as the globally declared z variable \r\n",
        "  z = z + 5  # this assignment is being done in the globle variable \r\n",
        "  print(z)"
      ],
      "execution_count": 5,
      "outputs": []
    },
    {
      "cell_type": "code",
      "metadata": {
        "colab": {
          "base_uri": "https://localhost:8080/"
        },
        "id": "HMj8mbxkrqTx",
        "outputId": "f73f516b-cad1-42c4-d232-535a5a4dc660"
      },
      "source": [
        "showww()\r\n",
        "print(z)"
      ],
      "execution_count": 6,
      "outputs": [
        {
          "output_type": "stream",
          "text": [
            "15\n",
            "15\n"
          ],
          "name": "stdout"
        }
      ]
    },
    {
      "cell_type": "code",
      "metadata": {
        "id": "q4kPXc_Mrsph"
      },
      "source": [
        "def outer():\r\n",
        "  a = 10\r\n",
        "  def inner():\r\n",
        "    nonlocal a  # here a is not globally defined so if we write global a then it will search in the global scope for a, so to search in outer scope we must write nonlocal a\r\n",
        "    a += 5\r\n",
        "    print(a)\r\n",
        "  inner()\r\n",
        "  print(a)"
      ],
      "execution_count": 10,
      "outputs": []
    },
    {
      "cell_type": "code",
      "metadata": {
        "colab": {
          "base_uri": "https://localhost:8080/"
        },
        "id": "rda5a8L1tj8D",
        "outputId": "b7e27870-a814-4085-b88c-0df60584bdcb"
      },
      "source": [
        "outer()"
      ],
      "execution_count": 11,
      "outputs": [
        {
          "output_type": "stream",
          "text": [
            "15\n",
            "15\n"
          ],
          "name": "stdout"
        }
      ]
    },
    {
      "cell_type": "markdown",
      "metadata": {
        "id": "mZe1JSBuv9Qz"
      },
      "source": [
        "##Keyword Arguments"
      ]
    },
    {
      "cell_type": "code",
      "metadata": {
        "id": "kdsvGECLtuVe"
      },
      "source": [
        "def show(a, b, c, d = 'Ajay', e = 'Badgujjar'):\r\n",
        "  print(a)\r\n",
        "  print(b)\r\n",
        "  print(c)\r\n",
        "  print(d)\r\n",
        "  print(e)"
      ],
      "execution_count": 14,
      "outputs": []
    },
    {
      "cell_type": "code",
      "metadata": {
        "colab": {
          "base_uri": "https://localhost:8080/"
        },
        "id": "rf6VAj5hvt7b",
        "outputId": "c06f1d02-292b-48aa-eb82-e3cc73aada42"
      },
      "source": [
        "show('Hello', 'World', 'Python')"
      ],
      "execution_count": 17,
      "outputs": [
        {
          "output_type": "stream",
          "text": [
            "Hello\n",
            "World\n",
            "Python\n",
            "Ajay\n",
            "Badgujjar\n"
          ],
          "name": "stdout"
        }
      ]
    },
    {
      "cell_type": "code",
      "metadata": {
        "colab": {
          "base_uri": "https://localhost:8080/"
        },
        "id": "yvuDc-srxv_T",
        "outputId": "241cdcee-0961-4135-9b97-854abf6a687a"
      },
      "source": [
        "show(b = 'Hello', c = 'World', a = 'Python')"
      ],
      "execution_count": 18,
      "outputs": [
        {
          "output_type": "stream",
          "text": [
            "Python\n",
            "Hello\n",
            "World\n",
            "Ajay\n",
            "Badgujjar\n"
          ],
          "name": "stdout"
        }
      ]
    },
    {
      "cell_type": "code",
      "metadata": {
        "colab": {
          "base_uri": "https://localhost:8080/"
        },
        "id": "ztwKpx22yAri",
        "outputId": "0654fb64-2e87-40f3-a958-1619e4c4b422"
      },
      "source": [
        "show('Hello', 'World', 'Python', e = 'Yadav', d = 'Abhishek')"
      ],
      "execution_count": 20,
      "outputs": [
        {
          "output_type": "stream",
          "text": [
            "Hello\n",
            "World\n",
            "Python\n",
            "Abhishek\n",
            "Yadav\n"
          ],
          "name": "stdout"
        }
      ]
    },
    {
      "cell_type": "code",
      "metadata": {
        "id": "Xh7C5xSPyHqz"
      },
      "source": [
        "#Order of arguments---> positional, args(tuples), default, kwargs(keyworded args- dictionary)"
      ],
      "execution_count": 21,
      "outputs": []
    },
    {
      "cell_type": "code",
      "metadata": {
        "id": "qTGdZk8Uyj-z"
      },
      "source": [
        "def show(a, b, *args, c = 'Ajay', **kwargs):\r\n",
        "  print(a)\r\n",
        "  print(b)\r\n",
        "  print(args)\r\n",
        "  print(c)\r\n",
        "  print(kwargs)"
      ],
      "execution_count": 23,
      "outputs": []
    },
    {
      "cell_type": "code",
      "metadata": {
        "colab": {
          "base_uri": "https://localhost:8080/"
        },
        "id": "7wGt8MptzOCZ",
        "outputId": "a0d13137-4cae-4362-97f7-008b03233230"
      },
      "source": [
        "show('Hello', 'World', 'x = ', 5, c = 'Abhishek', name = 'Ajay', surname = 'Badgujjar')"
      ],
      "execution_count": 24,
      "outputs": [
        {
          "output_type": "stream",
          "text": [
            "Hello\n",
            "World\n",
            "('x = ', 5)\n",
            "Abhishek\n",
            "{'name': 'Ajay', 'surname': 'Badgujjar'}\n"
          ],
          "name": "stdout"
        }
      ]
    },
    {
      "cell_type": "markdown",
      "metadata": {
        "id": "8Bc4XtMy99lC"
      },
      "source": [
        "##Lambda functions"
      ]
    },
    {
      "cell_type": "code",
      "metadata": {
        "id": "kcO4nIQt-Cx5"
      },
      "source": [
        "def add(a, b): \r\n",
        "  return a+b"
      ],
      "execution_count": 25,
      "outputs": []
    },
    {
      "cell_type": "code",
      "metadata": {
        "id": "9YV2Xn2s_qx4"
      },
      "source": [
        "subtract = lambda a, b: a - b"
      ],
      "execution_count": 28,
      "outputs": []
    },
    {
      "cell_type": "code",
      "metadata": {
        "colab": {
          "base_uri": "https://localhost:8080/"
        },
        "id": "cKsfBw6f_1pR",
        "outputId": "40499c27-578c-42ef-f96a-0ab4cf6a6564"
      },
      "source": [
        "print(add(2, 1))\r\n",
        "print(subtract(2, 1))"
      ],
      "execution_count": 29,
      "outputs": [
        {
          "output_type": "stream",
          "text": [
            "3\n",
            "1\n"
          ],
          "name": "stdout"
        }
      ]
    },
    {
      "cell_type": "markdown",
      "metadata": {
        "id": "OFCOlPjYAR7K"
      },
      "source": [
        "##Decorators in Python"
      ]
    },
    {
      "cell_type": "code",
      "metadata": {
        "id": "sYjc5YKWAVlJ"
      },
      "source": [
        "users = {\r\n",
        "    'ajay' : 'badgujjar',\r\n",
        "    'ashish' : 'grower',\r\n",
        "    'kamal' : 'dutt',\r\n",
        "    'abhishek' : 'yadav'\r\n",
        "}"
      ],
      "execution_count": 30,
      "outputs": []
    },
    {
      "cell_type": "code",
      "metadata": {
        "id": "LU6s294tAnFk"
      },
      "source": [
        "def login_required(func):\r\n",
        "  def wrapper(username, password, *args, **kwargs):\r\n",
        "    if username in users and users[username] == password:\r\n",
        "      #user is authenticated\r\n",
        "      func(*args, **kwargs)\r\n",
        "    else:\r\n",
        "      print('Not Authenticated')\r\n",
        "\r\n",
        "  return wrapper"
      ],
      "execution_count": 31,
      "outputs": []
    },
    {
      "cell_type": "code",
      "metadata": {
        "id": "TCMcguOiBVEp"
      },
      "source": [
        "def add(a, b):\r\n",
        "  print(a+b)"
      ],
      "execution_count": 34,
      "outputs": []
    },
    {
      "cell_type": "code",
      "metadata": {
        "id": "XQynwwGCBC5G"
      },
      "source": [
        "protected_add = login_required(add)"
      ],
      "execution_count": 35,
      "outputs": []
    },
    {
      "cell_type": "code",
      "metadata": {
        "colab": {
          "base_uri": "https://localhost:8080/"
        },
        "id": "t3b9qc5qBcQH",
        "outputId": "ba04bcc9-05c0-42d8-9c6f-ffff3f24515f"
      },
      "source": [
        "protected_add('ajay', 'badgujjar', 3, 4) #when authenticated"
      ],
      "execution_count": 36,
      "outputs": [
        {
          "output_type": "stream",
          "text": [
            "7\n"
          ],
          "name": "stdout"
        }
      ]
    },
    {
      "cell_type": "code",
      "metadata": {
        "id": "KDK_Zjb6BnZR"
      },
      "source": [
        "# also we can do:\r\n",
        "@login_required # we can add this line to modify the behaviour (decorators)\r\n",
        "def add(a, b, c):\r\n",
        "  print(a+b+c)\r\n",
        "\r\n",
        "# above code is equivalent to\r\n",
        "# def add(a, b, c):\r\n",
        "#   print(a+b+c)\r\n",
        "# add = login_required(add)"
      ],
      "execution_count": 37,
      "outputs": []
    },
    {
      "cell_type": "code",
      "metadata": {
        "colab": {
          "base_uri": "https://localhost:8080/"
        },
        "id": "cFFDiL8dB0i5",
        "outputId": "6c3c1107-a209-4b82-d51d-cfe5755ea126"
      },
      "source": [
        "add('ajay', 'badgujjar', 1, 2, 3)"
      ],
      "execution_count": 38,
      "outputs": [
        {
          "output_type": "stream",
          "text": [
            "6\n"
          ],
          "name": "stdout"
        }
      ]
    }
  ]
}